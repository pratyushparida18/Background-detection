{
 "cells": [
  {
   "cell_type": "code",
   "execution_count": null,
   "metadata": {},
   "outputs": [],
   "source": [
    "import numpy as np\n",
    "import cv2 as cv\n",
    "\n",
    "cap = cv.VideoCapture('/WIN_20210815_21_14_04_Pro.mp4')\n",
    "framecount = cap.get(cv.CAP_PROP_FRAME_COUNT)\n",
    "print(framecount) \n",
    "buff = cap.get(cv.CAP_PROP_BUFFERSIZE)\n",
    "print(buff)\n",
    "frames = []\n",
    "index = cap.get(cv.CAP_PROP_POS_FRAMES)\n",
    "\n",
    "\n",
    "\n",
    "print(index) \n",
    "\n",
    " #while(1):\n",
    "for _ in range(241, 295):\n",
    "     ret, frame = cap.read()\n",
    "     index = cap.get(cv.CAP_PROP_POS_FRAMES)\n",
    "     print(index) \n",
    "\n",
    "setbuff = cap.set(cv.CAP_PROP_BUFFERSIZE, 40)\n",
    "\n",
    "median = np.median(frame).astype(dtype=np.uint8)    \n",
    "cv.imshow('frame', median)\n",
    "\n",
    "\n",
    "k = cv.waitKey(30) & 0xff\n",
    "if k == 27:\n",
    "    break\n",
    "cap.release()\n",
    "cv.destroyAllWindows()"
   ]
  },
  {
   "cell_type": "code",
   "execution_count": null,
   "metadata": {},
   "outputs": [],
   "source": []
  },
  {
   "cell_type": "code",
   "execution_count": null,
   "metadata": {},
   "outputs": [],
   "source": []
  },
  {
   "cell_type": "code",
   "execution_count": null,
   "metadata": {},
   "outputs": [],
   "source": []
  }
 ],
 "metadata": {
  "kernelspec": {
   "display_name": "Python 3",
   "language": "python",
   "name": "python3"
  },
  "language_info": {
   "codemirror_mode": {
    "name": "ipython",
    "version": 3
   },
   "file_extension": ".py",
   "mimetype": "text/x-python",
   "name": "python",
   "nbconvert_exporter": "python",
   "pygments_lexer": "ipython3",
   "version": "3.8.3"
  }
 },
 "nbformat": 4,
 "nbformat_minor": 4
}
